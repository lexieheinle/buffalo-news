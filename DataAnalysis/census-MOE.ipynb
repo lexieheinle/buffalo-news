{
 "cells": [
  {
   "cell_type": "markdown",
   "metadata": {},
   "source": [
    "# Calculating significance of Census estimates\n",
    "References:\n",
    "* [Using American Community Survey Estimates and Margins of Error presententation](https://www.census.gov/content/dam/Census/programs-surveys/acs/guidance/training-presentations/20170419_MOE.pdf) from the US Census Bureau\n",
    "* [Downloaded Table B02001 - RACE for 2011 & 2016 5 year estimates for Erie County census tracts](https://factfinder.census.gov/faces/nav/jsf/pages/download_center.xhtml#none)"
   ]
  },
  {
   "cell_type": "code",
   "execution_count": 1,
   "metadata": {
    "collapsed": true
   },
   "outputs": [],
   "source": [
    "erie_race_data_16 = \"data/ACS_16_5YR_B02001_with_ann.csv\"\n",
    "erie_race_data_11 = \"data/ACS_11_5YR_B02001_with_ann.csv\""
   ]
  },
  {
   "cell_type": "code",
   "execution_count": 2,
   "metadata": {
    "collapsed": false
   },
   "outputs": [],
   "source": [
    "import agate\n",
    "import decimal\n",
    "import math\n",
    "\n",
    "specified_types = {\n",
    "    'GEO.id': agate.Text(),\n",
    "    'GEO.id2': agate.Text()\n",
    "}\n",
    "\n",
    "race_table_16 = agate.Table.from_csv(erie_race_data_16, column_types=specified_types)\n",
    "race_table_11 = agate.Table.from_csv(erie_race_data_11, column_types=specified_types)"
   ]
  },
  {
   "cell_type": "code",
   "execution_count": 5,
   "metadata": {
    "collapsed": false
   },
   "outputs": [
    {
     "name": "stdout",
     "output_type": "stream",
     "text": [
      "| GEO.id               | GEO.id2     | GEO.display-label    | HD01_VD01 | HD02_VD01 | HD01_VD02 | ... |\n",
      "| -------------------- | ----------- | -------------------- | --------- | --------- | --------- | --- |\n",
      "| 1400000US36029000110 | 36029000110 | Census Tract 1.10... |     2,598 |       354 |     2,375 | ... |\n",
      "| 1400000US36029000200 | 36029000200 | Census Tract 2, E... |     4,143 |       349 |     3,520 | ... |\n",
      "| 1400000US36029000500 | 36029000500 | Census Tract 5, E... |     2,219 |       383 |     2,189 | ... |\n",
      "| 1400000US36029000600 | 36029000600 | Census Tract 6, E... |     4,829 |       542 |     4,230 | ... |\n",
      "| 1400000US36029000700 | 36029000700 | Census Tract 7, E... |     3,816 |       327 |     3,750 | ... |\n",
      "| 1400000US36029000800 | 36029000800 | Census Tract 8, E... |     5,298 |       439 |     4,974 | ... |\n",
      "| 1400000US36029000900 | 36029000900 | Census Tract 9, E... |     2,223 |       259 |     2,142 | ... |\n",
      "| 1400000US36029001000 | 36029001000 | Census Tract 10, ... |     5,872 |       546 |     5,299 | ... |\n",
      "| 1400000US36029001100 | 36029001100 | Census Tract 11, ... |     2,643 |       255 |     2,470 | ... |\n",
      "| 1400000US36029001402 | 36029001402 | Census Tract 14.0... |     3,735 |       453 |       112 | ... |\n",
      "| 1400000US36029001500 | 36029001500 | Census Tract 15, ... |     1,400 |       261 |       149 | ... |\n",
      "| 1400000US36029001600 | 36029001600 | Census Tract 16, ... |     1,985 |       318 |       482 | ... |\n",
      "| 1400000US36029001700 | 36029001700 | Census Tract 17, ... |     1,953 |       327 |     1,342 | ... |\n",
      "| 1400000US36029001900 | 36029001900 | Census Tract 19, ... |     2,797 |       299 |     2,670 | ... |\n",
      "| 1400000US36029002300 | 36029002300 | Census Tract 23, ... |     3,228 |       441 |     2,844 | ... |\n",
      "| 1400000US36029002400 | 36029002400 | Census Tract 24, ... |     4,350 |       649 |     3,289 | ... |\n",
      "| 1400000US36029002502 | 36029002502 | Census Tract 25.0... |     1,926 |       263 |        69 | ... |\n",
      "| 1400000US36029002702 | 36029002702 | Census Tract 27.0... |     3,123 |       597 |       521 | ... |\n",
      "| 1400000US36029002800 | 36029002800 | Census Tract 28, ... |     2,296 |       456 |       578 | ... |\n",
      "| 1400000US36029002900 | 36029002900 | Census Tract 29, ... |     2,666 |       542 |       560 | ... |\n",
      "| ...                  | ...         | ...                  |       ... |       ... |       ... | ... |\n"
     ]
    }
   ],
   "source": [
    "race_table_11.print_table()"
   ]
  },
  {
   "cell_type": "markdown",
   "metadata": {},
   "source": [
    "## Calculate whether one variable is significant"
   ]
  },
  {
   "cell_type": "code",
   "execution_count": 6,
   "metadata": {
    "collapsed": false
   },
   "outputs": [],
   "source": [
    "class Significant90CI(agate.Computation):\n",
    "    \"\"\"\n",
    "    Calculate whether a census variable is statistically significant given MOE\n",
    "    \"\"\"\n",
    "    def __init__(self, column_value, column_moe):\n",
    "        self._column_value = column_value\n",
    "        self._column_moe = column_moe\n",
    "\n",
    "    def get_computed_data_type(self, table):\n",
    "        \"\"\"\n",
    "        The return value is a numerical distance.\n",
    "        \"\"\"\n",
    "        return agate.Number()\n",
    "\n",
    "    def validate(self, table):\n",
    "        \"\"\"\n",
    "        Verify the columns are numbers.\n",
    "        \"\"\"\n",
    "        value_column = table.columns[self._column_value]\n",
    "        moe_column = table.columns[self._column_moe]\n",
    "\n",
    "        if not isinstance(value_column.data_type, agate.Number) or not isinstance(moe_column.data_type, agate.Number):\n",
    "            raise agate.DataTypeError('Can only be applied to Number data.')\n",
    "\n",
    "    def run(self, table):\n",
    "        \"\"\"\n",
    "        Returning value\n",
    "        \"\"\"\n",
    "        new_column = []\n",
    "\n",
    "        for row in table.rows:\n",
    "            val = row[self._column_value]\n",
    "            moe = row[self._column_moe]\n",
    "            sig = abs(val/(moe/decimal.Decimal(1.645)))\n",
    "            new_column.append(sig)\n",
    "\n",
    "        return new_column"
   ]
  },
  {
   "cell_type": "code",
   "execution_count": 7,
   "metadata": {
    "collapsed": true
   },
   "outputs": [],
   "source": [
    "white_percent = 'HD01_VD01'\n",
    "white_MOE = 'HD02_VD01'\n",
    "black_percent = 'HD01_VD03'\n",
    "black_MOE = 'HD02_VD03'"
   ]
  },
  {
   "cell_type": "code",
   "execution_count": 9,
   "metadata": {
    "collapsed": false
   },
   "outputs": [],
   "source": [
    "sig_race_16 = race_table_16.compute([\n",
    "    ('sig_white', Significant90CI(white_percent, white_MOE)),\n",
    "    ('sig_black', Significant90CI(black_percent, black_MOE))\n",
    "])"
   ]
  },
  {
   "cell_type": "code",
   "execution_count": 13,
   "metadata": {
    "collapsed": false
   },
   "outputs": [
    {
     "name": "stdout",
     "output_type": "stream",
     "text": [
      "| GEO.id2     | HD01_VD01 | HD02_VD01 | sig_white | sig_black |\n",
      "| ----------- | --------- | --------- | --------- | --------- |\n",
      "| 36029000110 |     2,934 |       348 |   13.869… |    2.017… |\n",
      "| 36029000200 |     4,146 |       441 |   15.465… |    2.393… |\n",
      "| 36029000500 |     1,971 |       307 |   10.561… |    1.567… |\n",
      "| 36029000600 |     4,686 |       450 |   17.130… |    1.578… |\n",
      "| 36029000700 |     3,659 |       284 |   21.194… |    1.645… |\n",
      "| 36029000800 |     4,603 |       509 |   14.876… |    1.807… |\n",
      "| 36029000900 |     2,485 |       217 |   18.838… |    1.387… |\n",
      "| 36029001000 |     5,679 |       630 |   14.829… |    2.967… |\n",
      "| 36029001100 |     2,843 |       277 |   16.884… |    2.135… |\n",
      "| 36029001402 |     2,743 |       297 |   15.193… |   13.116… |\n",
      "| 36029001500 |     1,428 |       212 |   11.080… |    9.590… |\n",
      "| 36029001600 |     1,993 |       293 |   11.189… |    8.773… |\n",
      "| 36029001700 |     1,730 |       291 |    9.780… |    3.205… |\n",
      "| 36029001900 |     3,052 |       284 |   17.678… |    2.028… |\n",
      "| 36029002300 |     3,775 |       427 |   14.543… |    3.604… |\n",
      "| 36029002400 |     4,077 |       500 |   13.413… |    4.677… |\n",
      "| 36029002502 |     2,029 |       250 |   13.351… |   15.384… |\n",
      "| 36029002702 |     2,442 |       471 |    8.529… |    5.093… |\n",
      "| 36029002800 |     2,126 |       293 |   11.936… |    6.241… |\n",
      "| 36029002900 |     1,938 |       349 |    9.135… |    7.382… |\n",
      "| ...         |       ... |       ... |       ... |       ... |\n"
     ]
    }
   ],
   "source": [
    "sig_race_16.select(['GEO.id2', white_percent, white_MOE,'sig_white', 'sig_black']).print_table()"
   ]
  },
  {
   "cell_type": "code",
   "execution_count": 14,
   "metadata": {
    "collapsed": false
   },
   "outputs": [
    {
     "name": "stdout",
     "output_type": "stream",
     "text": [
      "237\n"
     ]
    }
   ],
   "source": [
    "print(len(sig_race_16.rows))"
   ]
  },
  {
   "cell_type": "code",
   "execution_count": 15,
   "metadata": {
    "collapsed": true
   },
   "outputs": [],
   "source": [
    "sig_race_90_16 = sig_race_16.where(lambda row: row['sig_white'] > decimal.Decimal(1.645) and row['sig_black'] > decimal.Decimal(1.645))"
   ]
  },
  {
   "cell_type": "code",
   "execution_count": 16,
   "metadata": {
    "collapsed": false
   },
   "outputs": [
    {
     "name": "stdout",
     "output_type": "stream",
     "text": [
      "151\n"
     ]
    }
   ],
   "source": [
    "print(len(sig_race_90_16))"
   ]
  },
  {
   "cell_type": "markdown",
   "metadata": {},
   "source": [
    "## Calculate Margin of Error given two estimates & margin of error"
   ]
  },
  {
   "cell_type": "code",
   "execution_count": 25,
   "metadata": {
    "collapsed": false
   },
   "outputs": [
    {
     "name": "stderr",
     "output_type": "stream",
     "text": [
      "/Users/lheinle/anaconda/lib/python3.5/site-packages/agate/utils.py:291: DuplicateColumnWarning: Column name \"GEO.id2\" already exists in Table. Column will be renamed to \"GEO.id2_2\".\n"
     ]
    }
   ],
   "source": [
    "joined = race_table_11.join(race_table_16,'GEO.id2', 'GEO.id2',full_outer=True)"
   ]
  },
  {
   "cell_type": "code",
   "execution_count": 41,
   "metadata": {
    "collapsed": false
   },
   "outputs": [],
   "source": [
    "def calculate_moe(row):\n",
    "    factor = 1.645\n",
    "    moe_11 = float(row[white_MOE])\n",
    "    moe_16 = float(row['HD02_VD012'])\n",
    "    return math.sqrt(math.pow((moe_11/factor), 2)+math.pow((moe_16/factor), 2))*factor\n",
    "    return row['price'].quantize(Decimal('0.01'))\n",
    "\n",
    "joined_change = joined.compute([\n",
    "    ('change1116', agate.Change(white_percent,'HD01_VD012')),\n",
    "    ('moe1116', agate.Formula(agate.Number(), calculate_moe)),\n",
    "])\n",
    "joined_2 = joined_change.compute([\n",
    "    ('sig_1116', Significant90CI('change1116', 'moe1116')),\n",
    "])"
   ]
  },
  {
   "cell_type": "code",
   "execution_count": 42,
   "metadata": {
    "collapsed": false
   },
   "outputs": [
    {
     "name": "stdout",
     "output_type": "stream",
     "text": [
      "| GEO.id2     | HD01_VD01 | HD01_VD012 | change1116 |  moe1116 | sig_1116 |\n",
      "| ----------- | --------- | ---------- | ---------- | -------- | -------- |\n",
      "| 36029000110 |     2,598 |      2,934 |        336 | 496.407… |   1.113… |\n",
      "| 36029000200 |     4,143 |      4,146 |          3 | 562.390… |   0.009… |\n",
      "| 36029000500 |     2,219 |      1,971 |       -248 | 490.854… |   0.831… |\n",
      "| 36029000600 |     4,829 |      4,686 |       -143 | 704.460… |   0.334… |\n",
      "| 36029000700 |     3,816 |      3,659 |       -157 | 433.111… |   0.596… |\n",
      "| 36029000800 |     5,298 |      4,603 |       -695 | 672.162… |   1.701… |\n",
      "| 36029000900 |     2,223 |      2,485 |        262 | 337.891… |   1.276… |\n",
      "| 36029001000 |     5,872 |      5,679 |       -193 | 833.676… |   0.381… |\n",
      "| 36029001100 |     2,643 |      2,843 |        200 | 376.502… |   0.874… |\n",
      "| 36029001402 |     3,735 |      2,743 |       -992 | 541.681… |   3.013… |\n",
      "| 36029001500 |     1,400 |      1,428 |         28 | 336.251… |   0.137… |\n",
      "| 36029001600 |     1,985 |      1,993 |          8 | 432.404… |   0.030… |\n",
      "| 36029001700 |     1,953 |      1,730 |       -223 | 437.733… |   0.838… |\n",
      "| 36029001900 |     2,797 |      3,052 |        255 | 412.380… |   1.017… |\n",
      "| 36029002300 |     3,228 |      3,775 |        547 | 613.849… |   1.466… |\n",
      "| 36029002400 |     4,350 |      4,077 |       -273 | 819.269… |   0.548… |\n",
      "| 36029002502 |     1,926 |      2,029 |        103 | 362.862… |   0.467… |\n",
      "| 36029002702 |     3,123 |      2,442 |       -681 | 760.428… |   1.473… |\n",
      "| 36029002800 |     2,296 |      2,126 |       -170 | 542.019… |   0.516… |\n",
      "| 36029002900 |     2,666 |      1,938 |       -728 | 644.643… |   1.858… |\n",
      "| ...         |       ... |        ... |        ... |      ... |      ... |\n"
     ]
    }
   ],
   "source": [
    "joined_2.select(['GEO.id2', white_percent,'HD01_VD012','change1116', 'moe1116','sig_1116']).print_table()"
   ]
  },
  {
   "cell_type": "code",
   "execution_count": 39,
   "metadata": {
    "collapsed": false
   },
   "outputs": [],
   "source": [
    "sig_year_90_1116 = joined_2.where(lambda row: row['sig_1116'] > decimal.Decimal(1.645))"
   ]
  },
  {
   "cell_type": "code",
   "execution_count": 40,
   "metadata": {
    "collapsed": false
   },
   "outputs": [
    {
     "name": "stdout",
     "output_type": "stream",
     "text": [
      "237\n",
      "49\n"
     ]
    }
   ],
   "source": [
    "print(len(joined_2.rows))\n",
    "print(len(sig_year_90_1116.rows))"
   ]
  }
 ],
 "metadata": {
  "kernelspec": {
   "display_name": "Python 3",
   "language": "python",
   "name": "python3"
  },
  "language_info": {
   "codemirror_mode": {
    "name": "ipython",
    "version": 3
   },
   "file_extension": ".py",
   "mimetype": "text/x-python",
   "name": "python",
   "nbconvert_exporter": "python",
   "pygments_lexer": "ipython3",
   "version": "3.5.2"
  }
 },
 "nbformat": 4,
 "nbformat_minor": 2
}
